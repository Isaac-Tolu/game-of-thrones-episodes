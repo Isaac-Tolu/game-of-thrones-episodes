{
 "cells": [
  {
   "cell_type": "code",
   "execution_count": 1,
   "metadata": {},
   "outputs": [],
   "source": [
    "import requests\n",
    "from bs4 import BeautifulSoup"
   ]
  },
  {
   "cell_type": "code",
   "execution_count": 2,
   "metadata": {},
   "outputs": [],
   "source": [
    "url = 'https://en.wikipedia.org/wiki/List_of_Game_of_Thrones_episodes'\n",
    "r = requests.get(url)"
   ]
  },
  {
   "cell_type": "code",
   "execution_count": 3,
   "metadata": {},
   "outputs": [],
   "source": [
    "soup = BeautifulSoup(r.text, 'html.parser')"
   ]
  },
  {
   "cell_type": "code",
   "execution_count": 7,
   "metadata": {},
   "outputs": [
    {
     "data": {
      "text/plain": [
       "<table class=\"wikitable plainrowheaders\" style=\"text-align:center\"><tbody><tr style=\"text-align:center\"><th colspan=\"2\" rowspan=\"2\" scope=\"col\" style=\"min-width:50px;padding:0 8px\">Season</th><th colspan=\"2\" rowspan=\"2\" scope=\"col\" style=\"padding:0 8px\">Episodes</th><th colspan=\"2\" scope=\"col\">Originally aired</th><th rowspan=\"2\" scope=\"col\" style=\"padding:0 8px\"><abbr title=\"Average\">Avg.</abbr> U.S. viewers<br/>(millions)</th></tr><tr><th scope=\"col\">First aired</th><th scope=\"col\">Last aired</th></tr><tr><td style=\"background:#295354;width:10px\"></td><th colspan=\"1\" scope=\"row\" style=\"text-align:center\"><a href=\"#Season_1_(2011)\">1</a></th><td colspan=\"2\">10</td><td colspan=\"1\" style=\"padding:0.2em 0.4em\">April 17, 2011<span style=\"display:none\"> (<span class=\"bday dtstart published updated\">2011-04-17</span>)</span></td><td style=\"padding:0 8px\">June 19, 2011<span style=\"display:none\"> (<span class=\"dtend\">2011-06-19</span>)</span></td><td>2.52<sup class=\"reference\" id=\"cite_ref-average_2_13-0\"><a href=\"#cite_note-average_2-13\">[13]</a></sup></td></tr><tr><td style=\"background:#D09916;width:10px\"></td><th colspan=\"1\" scope=\"row\" style=\"text-align:center\"><a href=\"#Season_2_(2012)\">2</a></th><td colspan=\"2\">10</td><td colspan=\"1\" style=\"padding:0.2em 0.4em\">April 1, 2012<span style=\"display:none\"> (<span class=\"bday dtstart published updated\">2012-04-01</span>)</span></td><td style=\"padding:0 8px\">June 3, 2012<span style=\"display:none\"> (<span class=\"dtend\">2012-06-03</span>)</span></td><td>3.80<sup class=\"reference\" id=\"cite_ref-average_2_13-1\"><a href=\"#cite_note-average_2-13\">[13]</a></sup></td></tr><tr><td style=\"background:#54575A;width:10px\"></td><th colspan=\"1\" scope=\"row\" style=\"text-align:center\"><a href=\"#Season_3_(2013)\">3</a></th><td colspan=\"2\">10</td><td colspan=\"1\" style=\"padding:0.2em 0.4em\">March 31, 2013<span style=\"display:none\"> (<span class=\"bday dtstart published updated\">2013-03-31</span>)</span></td><td style=\"padding:0 8px\">June 9, 2013<span style=\"display:none\"> (<span class=\"dtend\">2013-06-09</span>)</span></td><td>4.97<sup class=\"reference\" id=\"cite_ref-14\"><a href=\"#cite_note-14\">[14]</a></sup></td></tr><tr><td style=\"background:#222222;width:10px\"></td><th colspan=\"1\" scope=\"row\" style=\"text-align:center\"><a href=\"#Season_4_(2014)\">4</a></th><td colspan=\"2\">10</td><td colspan=\"1\" style=\"padding:0.2em 0.4em\">April 6, 2014<span style=\"display:none\"> (<span class=\"bday dtstart published updated\">2014-04-06</span>)</span></td><td style=\"padding:0 8px\">June 15, 2014<span style=\"display:none\"> (<span class=\"dtend\">2014-06-15</span>)</span></td><td>6.84<sup class=\"reference\" id=\"cite_ref-15\"><a href=\"#cite_note-15\">[15]</a></sup></td></tr><tr><td style=\"background:#68411C;width:10px\"></td><th colspan=\"1\" scope=\"row\" style=\"text-align:center\"><a href=\"#Season_5_(2015)\">5</a></th><td colspan=\"2\">10</td><td colspan=\"1\" style=\"padding:0.2em 0.4em\">April 12, 2015<span style=\"display:none\"> (<span class=\"bday dtstart published updated\">2015-04-12</span>)</span></td><td style=\"padding:0 8px\">June 14, 2015<span style=\"display:none\"> (<span class=\"dtend\">2015-06-14</span>)</span></td><td>6.88<sup class=\"reference\" id=\"cite_ref-16\"><a href=\"#cite_note-16\">[16]</a></sup></td></tr><tr><td style=\"background:#31485C;width:10px\"></td><th colspan=\"1\" scope=\"row\" style=\"text-align:center\"><a href=\"#Season_6_(2016)\">6</a></th><td colspan=\"2\">10</td><td colspan=\"1\" style=\"padding:0.2em 0.4em\">April 24, 2016<span style=\"display:none\"> (<span class=\"bday dtstart published updated\">2016-04-24</span>)</span></td><td style=\"padding:0 8px\">June 26, 2016<span style=\"display:none\"> (<span class=\"dtend\">2016-06-26</span>)</span></td><td>7.69<sup class=\"reference\" id=\"cite_ref-17\"><a href=\"#cite_note-17\">[17]</a></sup></td></tr><tr><td style=\"background:#091411;width:10px\"></td><th colspan=\"1\" scope=\"row\" style=\"text-align:center\"><a href=\"#Season_7_(2017)\">7</a></th><td colspan=\"2\">7</td><td colspan=\"1\" style=\"padding:0.2em 0.4em\">July 16, 2017<span style=\"display:none\"> (<span class=\"bday dtstart published updated\">2017-07-16</span>)</span></td><td style=\"padding:0 8px\">August 27, 2017<span style=\"display:none\"> (<span class=\"dtend\">2017-08-27</span>)</span></td><td>10.26<sup class=\"reference\" id=\"cite_ref-18\"><a href=\"#cite_note-18\">[18]</a></sup></td></tr><tr><td style=\"background:#3D424A;width:10px\"></td><th colspan=\"1\" scope=\"row\" style=\"text-align:center\"><a href=\"#Season_8_(2019)\">8</a></th><td colspan=\"2\">6</td><td colspan=\"1\" style=\"padding:0.2em 0.4em\">April 14, 2019<span style=\"display:none\"> (<span class=\"bday dtstart published updated\">2019-04-14</span>)</span></td><td style=\"padding:0 8px\">May 19, 2019<span style=\"display:none\"> (<span class=\"dtend\">2019-05-19</span>)</span></td><td>11.99<sup class=\"reference\" id=\"cite_ref-19\"><a href=\"#cite_note-19\">[19]</a></sup></td></tr></tbody></table>"
      ]
     },
     "execution_count": 7,
     "metadata": {},
     "output_type": "execute_result"
    }
   ],
   "source": [
    "test = soup.find('table', class_=\"wikitable\")\n",
    "test"
   ]
  },
  {
   "cell_type": "code",
   "execution_count": 17,
   "metadata": {},
   "outputs": [],
   "source": [
    "test = soup.find('head)\n",
    "test"
   ]
  },
  {
   "cell_type": "code",
   "execution_count": null,
   "metadata": {},
   "outputs": [],
   "source": []
  }
 ],
 "metadata": {
  "kernelspec": {
   "display_name": "Python 3",
   "language": "python",
   "name": "python3"
  },
  "language_info": {
   "codemirror_mode": {
    "name": "ipython",
    "version": 3
   },
   "file_extension": ".py",
   "mimetype": "text/x-python",
   "name": "python",
   "nbconvert_exporter": "python",
   "pygments_lexer": "ipython3",
   "version": "3.7.4"
  }
 },
 "nbformat": 4,
 "nbformat_minor": 2
}
